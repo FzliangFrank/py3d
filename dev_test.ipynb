{
 "cells": [
  {
   "cell_type": "markdown",
   "metadata": {},
   "source": [
    "---\n",
    "title: \"use this for testing\"\n",
    "draft: true\n",
    "---"
   ]
  },
  {
   "cell_type": "code",
   "execution_count": null,
   "metadata": {},
   "outputs": [],
   "source": [
    "from pyd3 import *\n",
    "\n",
    "json_data = {\n",
    "        'nodes': [{'id': 0, 'name': 'A'}\n",
    "                , {'id': 1, 'name': 'B'}\n",
    "                , {'id': 2, 'name': 'C'}\n",
    "                ,{'id': 3, 'name': 'D'} ],\n",
    "        'links': [{'source': 0, 'target': 1}\n",
    "                , {'source': 1, 'target': 2}\n",
    "                , {'source': 1, 'target': 3}\n",
    "                , {'source':2, 'target': 3}]\n",
    "    }\n",
    "\n",
    "\n",
    "d3_force_graph(json_data)\n",
    "\n"
   ]
  }
 ],
 "metadata": {
  "language_info": {
   "name": "python"
  }
 },
 "nbformat": 4,
 "nbformat_minor": 2
}
